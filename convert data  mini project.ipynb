{
 "cells": [
  {
   "cell_type": "code",
   "execution_count": 2,
   "id": "31d1513b",
   "metadata": {},
   "outputs": [
    {
     "name": "stdout",
     "output_type": "stream",
     "text": [
      "                                              Sample ID Cell type  \\\n",
      "0     lane1_B14_Plate02_A01_CACAGAAT_L001_EpiAge7680...   NveCD4T   \n",
      "1     lane1_B14_Plate02_A02_TTAGCAGT_L001_EpiAge7680...     BCell   \n",
      "2     lane1_B14_Plate02_A03_ATCGACCA_L001_EpiAge7680...     BCell   \n",
      "3     lane1_B14_Plate02_A04_CTACCATA_L001_EpiAge7680...   MemCD8T   \n",
      "4     lane1_B14_Plate02_B01_ACTCCCCA_L001_EpiAge7680...     BCell   \n",
      "...                                                 ...       ...   \n",
      "1018  lane2_B21_Plate06_H07_CTAGAGTG_L002_EpiAge7849...     BCell   \n",
      "1019  lane2_B21_Plate06_H08_AGTGAATA_L002_EpiAge7849...   NveCD4T   \n",
      "1020  lane2_B21_Plate06_H09_TCAAGAGT_L002_EpiAge7849...   MemCD4T   \n",
      "1021  lane2_B21_Plate06_H10_CAGATACC_L002_EpiAge7849...   MemCD8T   \n",
      "1022  lane2_B21_Plate06_H11_GGATCTAA_L002_EpiAge7849...       NaN   \n",
      "\n",
      "      Chronological_age  \n",
      "0                    36  \n",
      "1                    36  \n",
      "2                    36  \n",
      "3                    36  \n",
      "4                    36  \n",
      "...                 ...  \n",
      "1018                 77  \n",
      "1019                 77  \n",
      "1020                 77  \n",
      "1021                 77  \n",
      "1022                 77  \n",
      "\n",
      "[1023 rows x 3 columns]\n"
     ]
    }
   ],
   "source": [
    "#import libries:\n",
    "import numpy as np\n",
    "import pandas as pd\n",
    "df=pd.read_csv(\"C:\\\\Users\\\\LENOVO\\\\Dropbox\\\\miniProject\\\\annotations_ages.csv\")\n",
    "print(df)"
   ]
  },
  {
   "cell_type": "code",
   "execution_count": null,
   "id": "cc4456c8",
   "metadata": {},
   "outputs": [],
   "source": []
  },
  {
   "cell_type": "code",
   "execution_count": 8,
   "id": "4c27d978",
   "metadata": {},
   "outputs": [
    {
     "name": "stdout",
     "output_type": "stream",
     "text": [
      "               Sample ID Cell type  Chronological_age\n",
      "0     EpiAge7680441.cram   NveCD4T                 36\n",
      "1     EpiAge7680449.cram     BCell                 36\n",
      "2     EpiAge7680457.cram     BCell                 36\n",
      "3     EpiAge7680465.cram   MemCD8T                 36\n",
      "4     EpiAge7680442.cram     BCell                 36\n",
      "...                  ...       ...                ...\n",
      "1018  EpiAge7849314.cram     BCell                 77\n",
      "1019  EpiAge7849322.cram   NveCD4T                 77\n",
      "1020  EpiAge7849330.cram   MemCD4T                 77\n",
      "1021  EpiAge7849338.cram   MemCD8T                 77\n",
      "1022  EpiAge7849346.cram       NaN                 77\n",
      "\n",
      "[1023 rows x 3 columns]\n"
     ]
    }
   ],
   "source": [
    "import re\n",
    "def extract_property(text):\n",
    "    match = re.search(r'EpiAge\\d+', text)\n",
    "    if match:\n",
    "        return match.group() + \".cram\"\n",
    "    return None\n",
    "\n",
    "# Extract the values and save them in a list\n",
    "extracted_values = ([extract_property(text) for text in df['Sample ID']])\n",
    "\n",
    "# Replace the values in the 'column_name' column with the extracted values\n",
    "df['Sample ID'] = extracted_values\n",
    "\n",
    "# Print the modified data\n",
    "print(df)"
   ]
  },
  {
   "cell_type": "code",
   "execution_count": 11,
   "id": "8d7740e9",
   "metadata": {},
   "outputs": [],
   "source": [
    "#save the df with change:\n",
    "df.to_csv('C:\\\\Users\\\\LENOVO\\\\Dropbox\\\\miniProject\\\\fix_annotations_ages.csv', index=False)"
   ]
  },
  {
   "cell_type": "code",
   "execution_count": null,
   "id": "20fe9f7a",
   "metadata": {},
   "outputs": [],
   "source": [
    "#מכאן והלאה לא להתייחס הקוד הוא קוד של התאמה לקובץ היוצא מאנליזת לינוקס אך הוא לא היה מותאם לנתונים כך שקיבלנו קובץ אחר מהמורה \n",
    "# תוכל למצוא את הקובץ המתוקן בקוד בשם \n",
    "#convert matedata2"
   ]
  },
  {
   "cell_type": "code",
   "execution_count": 9,
   "id": "c7e63fdb",
   "metadata": {},
   "outputs": [
    {
     "name": "stdout",
     "output_type": "stream",
     "text": [
      "                    EpiAge7679961.cram  EpiAge7679962.cram  \\\n",
      "ENSMUSG00000102693                   0                   0   \n",
      "ENSMUSG00000051951                   0                   0   \n",
      "ENSMUSG00000102851                   0                   0   \n",
      "ENSMUSG00000104017                   0                   0   \n",
      "ENSMUSG00000103025                   0                   0   \n",
      "...                                ...                 ...   \n",
      "ENSMUSG00000095041                  28                 148   \n",
      "ENSMUSG00000063897                   0                   0   \n",
      "ENSMUSG00000094431                   0                   0   \n",
      "ENSMUSG00000094621                   0                   0   \n",
      "ENSMUSG00000095742                   0                   0   \n",
      "\n",
      "                    EpiAge7679963.cram  EpiAge7679964.cram  \\\n",
      "ENSMUSG00000102693                   0                   0   \n",
      "ENSMUSG00000051951                   0                   0   \n",
      "ENSMUSG00000102851                   0                   0   \n",
      "ENSMUSG00000104017                   0                   0   \n",
      "ENSMUSG00000103025                   0                   0   \n",
      "...                                ...                 ...   \n",
      "ENSMUSG00000095041                   1                   0   \n",
      "ENSMUSG00000063897                   0                   0   \n",
      "ENSMUSG00000094431                   0                   0   \n",
      "ENSMUSG00000094621                   0                   0   \n",
      "ENSMUSG00000095742                   0                   0   \n",
      "\n",
      "                    EpiAge7679965.cram  EpiAge7679966.cram  \\\n",
      "ENSMUSG00000102693                   0                   0   \n",
      "ENSMUSG00000051951                   0                   0   \n",
      "ENSMUSG00000102851                   0                   0   \n",
      "ENSMUSG00000104017                   0                   0   \n",
      "ENSMUSG00000103025                   0                   0   \n",
      "...                                ...                 ...   \n",
      "ENSMUSG00000095041                 360                 453   \n",
      "ENSMUSG00000063897                   0                   0   \n",
      "ENSMUSG00000094431                   0                   0   \n",
      "ENSMUSG00000094621                   0                   0   \n",
      "ENSMUSG00000095742                   0                   0   \n",
      "\n",
      "                    EpiAge7679967.cram  EpiAge7679968.cram  \\\n",
      "ENSMUSG00000102693                   0                   0   \n",
      "ENSMUSG00000051951                   0                   0   \n",
      "ENSMUSG00000102851                   0                   0   \n",
      "ENSMUSG00000104017                   0                   0   \n",
      "ENSMUSG00000103025                   0                   0   \n",
      "...                                ...                 ...   \n",
      "ENSMUSG00000095041                   0                   0   \n",
      "ENSMUSG00000063897                   0                   0   \n",
      "ENSMUSG00000094431                   0                   0   \n",
      "ENSMUSG00000094621                   0                   0   \n",
      "ENSMUSG00000095742                   0                   0   \n",
      "\n",
      "                    EpiAge7679969.cram  EpiAge7679970.cram  ...  \\\n",
      "ENSMUSG00000102693                   0                   0  ...   \n",
      "ENSMUSG00000051951                   0                   0  ...   \n",
      "ENSMUSG00000102851                   0                   0  ...   \n",
      "ENSMUSG00000104017                   0                   0  ...   \n",
      "ENSMUSG00000103025                   0                   0  ...   \n",
      "...                                ...                 ...  ...   \n",
      "ENSMUSG00000095041                   0                 125  ...   \n",
      "ENSMUSG00000063897                   0                   0  ...   \n",
      "ENSMUSG00000094431                   0                   0  ...   \n",
      "ENSMUSG00000094621                   0                   0  ...   \n",
      "ENSMUSG00000095742                   0                   0  ...   \n",
      "\n",
      "                    EpiAge7849345.cram  EpiAge7849346.cram  \\\n",
      "ENSMUSG00000102693                   0                   0   \n",
      "ENSMUSG00000051951                   0                   0   \n",
      "ENSMUSG00000102851                   0                   0   \n",
      "ENSMUSG00000104017                   0                   0   \n",
      "ENSMUSG00000103025                   0                   0   \n",
      "...                                ...                 ...   \n",
      "ENSMUSG00000095041                   0                   0   \n",
      "ENSMUSG00000063897                   0                   0   \n",
      "ENSMUSG00000094431                   0                   0   \n",
      "ENSMUSG00000094621                   0                   0   \n",
      "ENSMUSG00000095742                   0                   0   \n",
      "\n",
      "                    EpiAge7849347.cram  EpiAge7849348.cram  \\\n",
      "ENSMUSG00000102693                   0                   0   \n",
      "ENSMUSG00000051951                   0                   0   \n",
      "ENSMUSG00000102851                   0                   0   \n",
      "ENSMUSG00000104017                   0                   0   \n",
      "ENSMUSG00000103025                   0                   0   \n",
      "...                                ...                 ...   \n",
      "ENSMUSG00000095041                 652                   0   \n",
      "ENSMUSG00000063897                   0                   0   \n",
      "ENSMUSG00000094431                   0                   0   \n",
      "ENSMUSG00000094621                 110                   0   \n",
      "ENSMUSG00000095742                   0                   4   \n",
      "\n",
      "                    EpiAge7849349.cram  EpiAge7849350.cram  \\\n",
      "ENSMUSG00000102693                   0                   0   \n",
      "ENSMUSG00000051951                   0                   0   \n",
      "ENSMUSG00000102851                   0                   0   \n",
      "ENSMUSG00000104017                   0                   0   \n",
      "ENSMUSG00000103025                   0                   0   \n",
      "...                                ...                 ...   \n",
      "ENSMUSG00000095041                   0                 432   \n",
      "ENSMUSG00000063897                   0                 525   \n",
      "ENSMUSG00000094431                   0                   0   \n",
      "ENSMUSG00000094621                   0                   0   \n",
      "ENSMUSG00000095742                   0                   0   \n",
      "\n",
      "                    EpiAge7849351.cram  EpiAge7849352.cram  \\\n",
      "ENSMUSG00000102693                   0                   0   \n",
      "ENSMUSG00000051951                   0                   0   \n",
      "ENSMUSG00000102851                   0                   0   \n",
      "ENSMUSG00000104017                   0                   0   \n",
      "ENSMUSG00000103025                   0                   0   \n",
      "...                                ...                 ...   \n",
      "ENSMUSG00000095041                   0                   3   \n",
      "ENSMUSG00000063897                   0                   0   \n",
      "ENSMUSG00000094431                   0                   0   \n",
      "ENSMUSG00000094621                   0                   0   \n",
      "ENSMUSG00000095742                   0                   0   \n",
      "\n",
      "                    EpiAge7849353.cram  EpiAge7849354.cram  \n",
      "ENSMUSG00000102693                   0                   0  \n",
      "ENSMUSG00000051951                   0                   0  \n",
      "ENSMUSG00000102851                   0                   0  \n",
      "ENSMUSG00000104017                   0                   0  \n",
      "ENSMUSG00000103025                   0                   0  \n",
      "...                                ...                 ...  \n",
      "ENSMUSG00000095041                   2                   0  \n",
      "ENSMUSG00000063897                   0                   0  \n",
      "ENSMUSG00000094431                   0                   0  \n",
      "ENSMUSG00000094621                  87                   0  \n",
      "ENSMUSG00000095742                   0                   0  \n",
      "\n",
      "[38788 rows x 1055 columns]\n"
     ]
    }
   ],
   "source": [
    "#another first data:\n",
    "import pandas as pd \n",
    "df2 = pd.read_csv('C:\\\\Users\\\\LENOVO\\\\Dropbox\\\\miniProject\\\\GSE225172_sc_MT_Babraham_Blood_aging\\\\sc_MT_Babraham_Blood_aging.txt', sep='\\t')\n",
    "print(df2)"
   ]
  },
  {
   "cell_type": "code",
   "execution_count": 3,
   "id": "219fcad4",
   "metadata": {},
   "outputs": [
    {
     "name": "stdout",
     "output_type": "stream",
     "text": [
      "             sample_name  polycomb_islands_mean_methylation_values\n",
      "cellID                                                            \n",
      "7680921  B01_Plate01_A01                                  0.074683\n",
      "7680994  B01_Plate01_B10                                  0.094062\n",
      "7680972  B01_Plate01_D07                                  0.067683\n",
      "7680925  B01_Plate01_E01                                  0.077585\n",
      "7680973  B01_Plate01_E07                                  0.088540\n",
      "...                  ...                                       ...\n",
      "7680055  B24_Plate01_G12                                  0.059343\n",
      "7679976  B24_Plate01_H02                                  0.057966\n",
      "7680000  B24_Plate01_H05                                  0.060081\n",
      "7680024  B24_Plate01_H08                                  0.062398\n",
      "7680040  B24_Plate01_H10                                  0.057162\n",
      "\n",
      "[315 rows x 2 columns]\n"
     ]
    }
   ],
   "source": [
    "#new convert:\n",
    "#import libries:\n",
    "import numpy as np\n",
    "import pandas as pd\n",
    "df=pd.read_csv(\"C:\\\\Users\\\\LENOVO\\\\Dropbox\\\\miniProject\\\\Tcells_methylation.csv\",sep=\",\", header=0, index_col=\"cellID\")\n",
    "print(df)"
   ]
  },
  {
   "cell_type": "code",
   "execution_count": 4,
   "id": "10b39a6f",
   "metadata": {},
   "outputs": [
    {
     "name": "stdout",
     "output_type": "stream",
     "text": [
      "                        sample_name  polycomb_islands_mean_methylation_values\n",
      "EpiAge7680921.cram  B01_Plate01_A01                                  0.074683\n",
      "EpiAge7680994.cram  B01_Plate01_B10                                  0.094062\n",
      "EpiAge7680972.cram  B01_Plate01_D07                                  0.067683\n",
      "EpiAge7680925.cram  B01_Plate01_E01                                  0.077585\n",
      "EpiAge7680973.cram  B01_Plate01_E07                                  0.088540\n",
      "...                             ...                                       ...\n",
      "EpiAge7680055.cram  B24_Plate01_G12                                  0.059343\n",
      "EpiAge7679976.cram  B24_Plate01_H02                                  0.057966\n",
      "EpiAge7680000.cram  B24_Plate01_H05                                  0.060081\n",
      "EpiAge7680024.cram  B24_Plate01_H08                                  0.062398\n",
      "EpiAge7680040.cram  B24_Plate01_H10                                  0.057162\n",
      "\n",
      "[315 rows x 2 columns]\n"
     ]
    }
   ],
   "source": [
    "def change_row_names(df):\n",
    "    new_index = ['EpiAge' + str(i) + '.cram' for i in df.index]\n",
    "    df.index = new_index\n",
    "    return df\n",
    "\n",
    "# שימוש בפונקציה על הדטה פריים\n",
    "df = change_row_names(df)\n",
    "print(df)"
   ]
  },
  {
   "cell_type": "code",
   "execution_count": 6,
   "id": "579794dd",
   "metadata": {},
   "outputs": [],
   "source": [
    "df.to_csv('C:\\\\Users\\\\LENOVO\\\\Dropbox\\\\miniProject\\\\Tcells_methylation1.csv')"
   ]
  },
  {
   "cell_type": "code",
   "execution_count": null,
   "id": "c0ecf168",
   "metadata": {},
   "outputs": [],
   "source": []
  }
 ],
 "metadata": {
  "kernelspec": {
   "display_name": "Python 3 (ipykernel)",
   "language": "python",
   "name": "python3"
  },
  "language_info": {
   "codemirror_mode": {
    "name": "ipython",
    "version": 3
   },
   "file_extension": ".py",
   "mimetype": "text/x-python",
   "name": "python",
   "nbconvert_exporter": "python",
   "pygments_lexer": "ipython3",
   "version": "3.10.9"
  }
 },
 "nbformat": 4,
 "nbformat_minor": 5
}
