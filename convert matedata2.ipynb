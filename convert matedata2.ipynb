{
 "cells": [
  {
   "cell_type": "code",
   "execution_count": 2,
   "id": "64d21fd2",
   "metadata": {},
   "outputs": [
    {
     "data": {
      "text/html": [
       "<div>\n",
       "<style scoped>\n",
       "    .dataframe tbody tr th:only-of-type {\n",
       "        vertical-align: middle;\n",
       "    }\n",
       "\n",
       "    .dataframe tbody tr th {\n",
       "        vertical-align: top;\n",
       "    }\n",
       "\n",
       "    .dataframe thead th {\n",
       "        text-align: right;\n",
       "    }\n",
       "</style>\n",
       "<table border=\"1\" class=\"dataframe\">\n",
       "  <thead>\n",
       "    <tr style=\"text-align: right;\">\n",
       "      <th></th>\n",
       "      <th>Unnamed: 0</th>\n",
       "      <th>V1</th>\n",
       "      <th>V2</th>\n",
       "    </tr>\n",
       "  </thead>\n",
       "  <tbody>\n",
       "    <tr>\n",
       "      <th>0</th>\n",
       "      <td>1</td>\n",
       "      <td>Blood14_B08_merged_L001_R1_GRCm38_bismark_bt2....</td>\n",
       "      <td>0.064449</td>\n",
       "    </tr>\n",
       "    <tr>\n",
       "      <th>1</th>\n",
       "      <td>2</td>\n",
       "      <td>Blood14_B08_merged_L001_R2_GRCm38_bismark_bt2....</td>\n",
       "      <td>0.066077</td>\n",
       "    </tr>\n",
       "    <tr>\n",
       "      <th>2</th>\n",
       "      <td>3</td>\n",
       "      <td>Blood14_C02_merged_L001_R1_GRCm38_bismark_bt2....</td>\n",
       "      <td>0.077837</td>\n",
       "    </tr>\n",
       "    <tr>\n",
       "      <th>3</th>\n",
       "      <td>4</td>\n",
       "      <td>Blood14_C02_merged_L001_R2_GRCm38_bismark_bt2....</td>\n",
       "      <td>0.075245</td>\n",
       "    </tr>\n",
       "    <tr>\n",
       "      <th>4</th>\n",
       "      <td>5</td>\n",
       "      <td>Blood14_C11_merged_L001_R1_GRCm38_bismark_bt2....</td>\n",
       "      <td>0.073350</td>\n",
       "    </tr>\n",
       "  </tbody>\n",
       "</table>\n",
       "</div>"
      ],
      "text/plain": [
       "   Unnamed: 0                                                 V1        V2\n",
       "0           1  Blood14_B08_merged_L001_R1_GRCm38_bismark_bt2....  0.064449\n",
       "1           2  Blood14_B08_merged_L001_R2_GRCm38_bismark_bt2....  0.066077\n",
       "2           3  Blood14_C02_merged_L001_R1_GRCm38_bismark_bt2....  0.077837\n",
       "3           4  Blood14_C02_merged_L001_R2_GRCm38_bismark_bt2....  0.075245\n",
       "4           5  Blood14_C11_merged_L001_R1_GRCm38_bismark_bt2....  0.073350"
      ]
     },
     "execution_count": 2,
     "metadata": {},
     "output_type": "execute_result"
    }
   ],
   "source": [
    "import numpy as np\n",
    "import pandas as pd\n",
    "df = pd.read_csv(\"C:\\\\Users\\\\LENOVO\\\\Dropbox\\\\miniProject\\\\ave2.csv\")\n",
    "df.head()"
   ]
  },
  {
   "cell_type": "code",
   "execution_count": 3,
   "id": "de01a506",
   "metadata": {},
   "outputs": [
    {
     "name": "stdout",
     "output_type": "stream",
     "text": [
      "                                                    V1        V2\n",
      "0    Blood14_B08_merged_L001_R1_GRCm38_bismark_bt2....  0.064449\n",
      "1    Blood14_B08_merged_L001_R2_GRCm38_bismark_bt2....  0.066077\n",
      "2    Blood14_C02_merged_L001_R1_GRCm38_bismark_bt2....  0.077837\n",
      "3    Blood14_C02_merged_L001_R2_GRCm38_bismark_bt2....  0.075245\n",
      "4    Blood14_C11_merged_L001_R1_GRCm38_bismark_bt2....  0.073350\n",
      "..                                                 ...       ...\n",
      "139  lane8_DN549335_Blood24_H02_TACATACA_L008_EpiAg...  0.089607\n",
      "140  lane8_DN549335_Blood24_H05_ATTAGCAA_L008_EpiAg...  0.083409\n",
      "141  lane8_DN549335_Blood24_H05_ATTAGCAA_L008_EpiAg...  0.094410\n",
      "142  lane8_DN549335_Blood24_H08_TATGGACG_L008_EpiAg...  0.094467\n",
      "143  lane8_DN549335_Blood24_H08_TATGGACG_L008_EpiAg...  0.095523\n",
      "\n",
      "[144 rows x 2 columns]\n"
     ]
    }
   ],
   "source": [
    "del df[\"Unnamed: 0\"]\n",
    "print(df)"
   ]
  },
  {
   "cell_type": "code",
   "execution_count": 4,
   "id": "fb05a5c0",
   "metadata": {},
   "outputs": [
    {
     "name": "stdout",
     "output_type": "stream",
     "text": [
      "Blood14_B08_merged_L001_R1_GRCm38_bismark_bt2.deduplicated.bismark_intersect_group\n"
     ]
    }
   ],
   "source": [
    "print(df.iat[0,0])"
   ]
  },
  {
   "cell_type": "code",
   "execution_count": 5,
   "id": "86902c26",
   "metadata": {},
   "outputs": [
    {
     "name": "stdout",
     "output_type": "stream",
     "text": [
      "                     V1        V2\n",
      "0                  None  0.064449\n",
      "1                  None  0.066077\n",
      "2                  None  0.077837\n",
      "3                  None  0.075245\n",
      "4                  None  0.073350\n",
      "..                  ...       ...\n",
      "139  EpiAge8649025.cram  0.089607\n",
      "140  EpiAge8649049.cram  0.083409\n",
      "141  EpiAge8649049.cram  0.094410\n",
      "142  EpiAge8649073.cram  0.094467\n",
      "143  EpiAge8649073.cram  0.095523\n",
      "\n",
      "[144 rows x 2 columns]\n"
     ]
    }
   ],
   "source": [
    "import re\n",
    "def extract_property(text):\n",
    "    match = re.search(r'EpiAge(\\d+)', text)\n",
    "    if match:\n",
    "        return match.group() + \".cram\"\n",
    "    return None\n",
    "\n",
    "# Extract the values and save them in a list\n",
    "extracted_values = ([extract_property(text) for text in df['V1']])\n",
    "# Replace the values in the 'column_name' column with the extracted values\n",
    "df['V1'] = extracted_values\n",
    "\n",
    "# Print the modified data\n",
    "print(df)"
   ]
  },
  {
   "cell_type": "code",
   "execution_count": 6,
   "id": "79a303d9",
   "metadata": {},
   "outputs": [
    {
     "name": "stdout",
     "output_type": "stream",
     "text": [
      "28\n"
     ]
    }
   ],
   "source": [
    "print( df['V1'].isnull().sum())"
   ]
  },
  {
   "cell_type": "code",
   "execution_count": null,
   "id": "fbde57d2",
   "metadata": {},
   "outputs": [],
   "source": []
  },
  {
   "cell_type": "code",
   "execution_count": 8,
   "id": "e743014f",
   "metadata": {},
   "outputs": [],
   "source": [
    "df_avg = df.groupby('V1', as_index=False).mean()"
   ]
  },
  {
   "cell_type": "code",
   "execution_count": 10,
   "id": "d4dfe5c3",
   "metadata": {},
   "outputs": [],
   "source": [
    "#save the df with change:\n",
    "df_avg.to_csv('C:\\\\Users\\\\LENOVO\\\\Dropbox\\\\miniProject\\\\fix_meAge1.csv', index=False)"
   ]
  },
  {
   "cell_type": "code",
   "execution_count": null,
   "id": "bab73129",
   "metadata": {},
   "outputs": [],
   "source": []
  },
  {
   "cell_type": "code",
   "execution_count": null,
   "id": "da4be361",
   "metadata": {},
   "outputs": [],
   "source": []
  }
 ],
 "metadata": {
  "kernelspec": {
   "display_name": "Python 3 (ipykernel)",
   "language": "python",
   "name": "python3"
  },
  "language_info": {
   "codemirror_mode": {
    "name": "ipython",
    "version": 3
   },
   "file_extension": ".py",
   "mimetype": "text/x-python",
   "name": "python",
   "nbconvert_exporter": "python",
   "pygments_lexer": "ipython3",
   "version": "3.10.9"
  }
 },
 "nbformat": 4,
 "nbformat_minor": 5
}
